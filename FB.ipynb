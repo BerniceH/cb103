{
 "cells": [
  {
   "cell_type": "code",
   "execution_count": 7,
   "metadata": {},
   "outputs": [],
   "source": [
    "from selenium.webdriver import Chrome\n",
    "import time\n",
    "\n",
    "driver = Chrome(\"./chromedriver\")\n",
    "driver.get(\"https://www.facebook.com\")\n",
    "driver.find_element_by_id(\"email\").send_keys(\"aaa\")\n",
    "driver.find_element_by_id(\"pass\").send_keys(\"aaa\")\n",
    "driver.find_element_by_id(\"login_form\").submit()\n",
    "\n",
    "time.sleep(3)\n",
    "print(driver.find_element_by_class_name(\"userContent\").text)\n",
    "\n",
    "time.sleep(3)\n",
    "driver.close()"
   ]
  },
  {
   "cell_type": "code",
   "execution_count": null,
   "metadata": {},
   "outputs": [],
   "source": []
  }
 ],
 "metadata": {
  "kernelspec": {
   "display_name": "Python 3",
   "language": "python",
   "name": "python3"
  },
  "language_info": {
   "codemirror_mode": {
    "name": "ipython",
    "version": 3
   },
   "file_extension": ".py",
   "mimetype": "text/x-python",
   "name": "python",
   "nbconvert_exporter": "python",
   "pygments_lexer": "ipython3",
   "version": "3.6.0"
  }
 },
 "nbformat": 4,
 "nbformat_minor": 2
}
