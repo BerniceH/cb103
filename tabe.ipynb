{
 "cells": [
  {
   "cell_type": "markdown",
   "metadata": {},
   "source": [
    "一頁"
   ]
  },
  {
   "cell_type": "code",
   "execution_count": 1,
   "metadata": {},
   "outputs": [],
   "source": [
    "from urllib.request import urlopen\n",
    "from bs4 import BeautifulSoup\n",
    "# MAC\n",
    "import ssl\n",
    "ssl._create_default_https_context = ssl._create_unverified_context\n",
    "\n",
    "response = urlopen(\"https://tabelog.com/tw/tokyo/rstLst/?SrtT=rt\")\n",
    "html = BeautifulSoup(response)\n",
    "# html"
   ]
  },
  {
   "cell_type": "code",
   "execution_count": 2,
   "metadata": {},
   "outputs": [
    {
     "name": "stdout",
     "output_type": "stream",
     "text": [
      "4.95 4.90 4.88 松川 Matsukawa https://tabelog.com/tw/tokyo/A1307/A130701/13124391/\n",
      "4.89 4.81 4.86 鮨 さいとう Saito https://tabelog.com/tw/tokyo/A1308/A130802/13015251/\n",
      "4.85 4.87 3.20 銀座 しのはら Shinohara https://tabelog.com/tw/tokyo/A1301/A130101/13200949/\n",
      "4.84 4.79 4.80 日本橋蛎殻町 すぎた Sugita https://tabelog.com/tw/tokyo/A1302/A130204/13018162/\n",
      "4.79 4.80 4.51 カンテサンス Quintessence https://tabelog.com/tw/tokyo/A1314/A131405/13159567/\n",
      "4.75 4.77 4.53 京味 Kyoaji https://tabelog.com/tw/tokyo/A1301/A130103/13002887/\n",
      "4.74 4.74 4.62 エクアトゥール Restaurant l'equateur https://tabelog.com/tw/tokyo/A1307/A130702/13121866/\n",
      "4.71 4.75 3.54 SUGALABO SUGALABO https://tabelog.com/tw/tokyo/A1307/A130704/13182678/\n",
      "4.66 4.66 - ペレグリーノ PELLEGRINO https://tabelog.com/tw/tokyo/A1303/A130302/13072775/\n",
      "4.64 4.64 - 鮨 はしぐち Hashiguchi https://tabelog.com/tw/tokyo/A1308/A130801/13134517/\n",
      "4.62 4.46 4.66 レフェルヴェソンス L'Effervescence https://tabelog.com/tw/tokyo/A1306/A130602/13116356/\n",
      "4.62 4.62 - フルタ Furuta https://tabelog.com/tw/tokyo/A1313/A131301/13176780/\n",
      "4.61 4.55 4.33 CHIUnE CHIUnE https://tabelog.com/tw/tokyo/A1301/A130101/13203796/\n",
      "4.60 4.62 3.09 と村 Tomura https://tabelog.com/tw/tokyo/A1308/A130802/13005027/\n",
      "4.60 4.60 - 趙楊 Choyo https://tabelog.com/tw/tokyo/A1301/A130103/13172920/\n",
      "4.60 4.60 - 味満ん Ajiman https://tabelog.com/tw/tokyo/A1307/A130701/13001332/\n",
      "4.59 4.61 3.55 SATOブリアン にごう SATO Buriand https://tabelog.com/tw/tokyo/A1319/A131905/13159782/\n",
      "4.58 4.58 - 虎白 Kohaku https://tabelog.com/tw/tokyo/A1309/A130905/13049130/\n",
      "4.58 4.45 4.62 三谷 Mitani https://tabelog.com/tw/tokyo/A1309/A130902/13042204/\n",
      "4.57 4.57 3.15 鳥しき Torishiki https://tabelog.com/tw/tokyo/A1316/A131601/13041029/\n"
     ]
    }
   ],
   "source": [
    "# html.find_all(\"li\", class_ = \"list-rst\")\n",
    "restaurants = html.find_all(\"li\", {\"class\":\"list-rst\"})\n",
    "for r in restaurants:\n",
    "    ja = r.find(\"small\", class_=\"list-rst__name-ja\").text\n",
    "    en = r.find(\"a\", class_=\"list-rst__name-main\").text\n",
    "    blog = r.find(\"a\", class_=\"list-rst__name-main\")[\"href\"]\n",
    "    rating = r.find_all(\"b\", class_=\"c-rating__val\")\n",
    "    print(rating[0].text, rating[1].text, rating[2].text, ja, en, blog)"
   ]
  },
  {
   "cell_type": "markdown",
   "metadata": {},
   "source": [
    "全部頁面"
   ]
  },
  {
   "cell_type": "code",
   "execution_count": 3,
   "metadata": {
    "scrolled": true
   },
   "outputs": [
    {
     "name": "stdout",
     "output_type": "stream",
     "text": [
      "正在處理頁面: https://tabelog.com/tw/tokyo/rstLst/1/?SrtT=rt\n",
      "4.95 4.90 4.88 松川 Matsukawa https://tabelog.com/tw/tokyo/A1307/A130701/13124391/\n",
      "4.89 4.81 4.86 鮨 さいとう Saito https://tabelog.com/tw/tokyo/A1308/A130802/13015251/\n",
      "4.85 4.87 3.20 銀座 しのはら Shinohara https://tabelog.com/tw/tokyo/A1301/A130101/13200949/\n",
      "4.84 4.79 4.80 日本橋蛎殻町 すぎた Sugita https://tabelog.com/tw/tokyo/A1302/A130204/13018162/\n",
      "4.79 4.80 4.51 カンテサンス Quintessence https://tabelog.com/tw/tokyo/A1314/A131405/13159567/\n",
      "4.75 4.77 4.53 京味 Kyoaji https://tabelog.com/tw/tokyo/A1301/A130103/13002887/\n",
      "4.74 4.74 4.62 エクアトゥール Restaurant l'equateur https://tabelog.com/tw/tokyo/A1307/A130702/13121866/\n",
      "4.71 4.75 3.54 SUGALABO SUGALABO https://tabelog.com/tw/tokyo/A1307/A130704/13182678/\n",
      "4.66 4.66 - ペレグリーノ PELLEGRINO https://tabelog.com/tw/tokyo/A1303/A130302/13072775/\n",
      "4.64 4.64 - 鮨 はしぐち Hashiguchi https://tabelog.com/tw/tokyo/A1308/A130801/13134517/\n",
      "4.62 4.46 4.66 レフェルヴェソンス L'Effervescence https://tabelog.com/tw/tokyo/A1306/A130602/13116356/\n",
      "4.62 4.62 - フルタ Furuta https://tabelog.com/tw/tokyo/A1313/A131301/13176780/\n",
      "4.61 4.55 4.33 CHIUnE CHIUnE https://tabelog.com/tw/tokyo/A1301/A130101/13203796/\n",
      "4.60 4.62 3.09 と村 Tomura https://tabelog.com/tw/tokyo/A1308/A130802/13005027/\n",
      "4.60 4.60 - 趙楊 Choyo https://tabelog.com/tw/tokyo/A1301/A130103/13172920/\n",
      "4.60 4.60 - 味満ん Ajiman https://tabelog.com/tw/tokyo/A1307/A130701/13001332/\n",
      "4.59 4.61 3.55 SATOブリアン にごう SATO Buriand https://tabelog.com/tw/tokyo/A1319/A131905/13159782/\n",
      "4.58 4.58 - 虎白 Kohaku https://tabelog.com/tw/tokyo/A1309/A130905/13049130/\n",
      "4.58 4.45 4.62 三谷 Mitani https://tabelog.com/tw/tokyo/A1309/A130902/13042204/\n",
      "4.57 4.57 3.15 鳥しき Torishiki https://tabelog.com/tw/tokyo/A1316/A131601/13041029/\n",
      "正在處理頁面: https://tabelog.com/tw/tokyo/rstLst/2/?SrtT=rt\n",
      "4.57 4.46 4.44 エスキス ESqUISSE https://tabelog.com/tw/tokyo/A1301/A130101/13142530/\n",
      "4.56 4.55 3.04 かぶと Kabuto https://tabelog.com/tw/tokyo/A1305/A130501/13016660/\n",
      "4.54 4.56 - 東麻布 天本 Amamoto https://tabelog.com/tw/tokyo/A1314/A131401/13196420/\n",
      "4.54 4.52 4.52 茶禅華 Sazenka https://tabelog.com/tw/tokyo/A1307/A130703/13205298/\n",
      "4.52 4.52 4.47 もりかわ Morikawa https://tabelog.com/tw/tokyo/A1308/A130801/13002772/\n",
      "4.50 4.46 4.38 ガストロノミー ジョエル・ロブション Joel Robuchon https://tabelog.com/tw/tokyo/A1303/A130302/13009310/\n",
      "4.50 4.33 4.36 すきやばし 次郎 Sukiyabashi Jiro https://tabelog.com/tw/tokyo/A1301/A130101/13002260/\n",
      "4.49 4.49 3.06 蕃 YORONIKU EBISU YORONIKU https://tabelog.com/tw/tokyo/A1303/A130302/13211927/\n",
      "4.49 4.51 - かわむら Kawamura https://tabelog.com/tw/tokyo/A1301/A130101/13016506/\n",
      "4.49 4.49 - USHIGORO S. NISHIAZABU USHIGORO S. https://tabelog.com/tw/tokyo/A1307/A130701/13209611/\n",
      "4.48 4.43 4.47 レ セゾン Les Saisons https://tabelog.com/tw/tokyo/A1301/A130102/13002294/\n",
      "4.48 4.48 3.60 赤坂 詠月 Eigetsu https://tabelog.com/tw/tokyo/A1308/A130801/13116523/\n",
      "4.48 4.47 3.06 井雪 Iyuki https://tabelog.com/tw/tokyo/A1301/A130101/13030881/\n",
      "4.47 4.49 3.72 SATOブリアン SATO Buriand https://tabelog.com/tw/tokyo/A1319/A131905/13127046/\n",
      "4.47 4.34 4.39 ボニュ Bon.nu https://tabelog.com/tw/tokyo/A1304/A130401/13184186/\n",
      "4.47 4.46 - USHIGORO S Ginza USHIGORO S https://tabelog.com/tw/tokyo/A1301/A130101/13222093/\n",
      "4.46 4.48 4.44 鮨 あらい Arai https://tabelog.com/tw/tokyo/A1301/A130101/13188186/\n",
      "4.45 4.44 3.57 長谷川 稔 Hasegawaminoru https://tabelog.com/tw/tokyo/A1307/A130703/13220575/\n",
      "4.44 4.43 3.38 スタミナ苑 Sutaminaen https://tabelog.com/tw/tokyo/A1323/A132305/13003777/\n",
      "4.44 4.44 4.16 TACUBO TACUBO https://tabelog.com/tw/tokyo/A1303/A130303/13109940/\n",
      "正在處理頁面: https://tabelog.com/tw/tokyo/rstLst/3/?SrtT=rt\n",
      "4.44 4.44 3.92 レストラン クレッセント RESTAURANT CRESCENT https://tabelog.com/tw/tokyo/A1314/A131401/13001521/\n",
      "4.43 4.44 4.37 ロオジエ L'OSIER https://tabelog.com/tw/tokyo/A1301/A130101/13002607/\n",
      "4.43 4.43 3.00 鮨 尚充 Takamitsu https://tabelog.com/tw/tokyo/A1317/A131701/13128483/\n",
      "4.43 4.43 4.06 ete été https://tabelog.com/tw/tokyo/A1303/A130301/13185038/\n",
      "4.43 4.42 3.58 TSU・SHI・MI TSU・SHI・MI https://tabelog.com/tw/tokyo/A1318/A131801/13121317/\n",
      "4.42 4.43 4.29 ラチュレ LATURE https://tabelog.com/tw/tokyo/A1303/A130301/13198692/\n",
      "4.41 4.42 3.65 傳 den https://tabelog.com/tw/tokyo/A1306/A130603/13046855/\n",
      "4.40 4.42 4.21 日本料理 晴山 SEIZAN https://tabelog.com/tw/tokyo/A1314/A131402/13127807/\n",
      "4.40 4.38 4.50 さわ田 Sawada https://tabelog.com/tw/tokyo/A1301/A130101/13001043/\n",
      "4.39 4.42 4.19 すし匠 Sushi Sho https://tabelog.com/tw/tokyo/A1309/A130902/13000852/\n",
      "4.39 4.39 3.54 鮨 なんば Namba https://tabelog.com/tw/tokyo/A1319/A131905/13127515/\n",
      "4.39 4.39 - 御料理 宮坂 Miyasaka https://tabelog.com/tw/tokyo/A1306/A130602/13184986/\n",
      "4.39 4.39 - 肉割烹 上 Nikukappoujou https://tabelog.com/tw/tokyo/A1307/A130701/13209614/\n",
      "4.38 4.32 4.18 リストランテ 濱崎 RISTORANTE HAMASAKI https://tabelog.com/tw/tokyo/A1306/A130602/13005340/\n",
      "4.38 4.38 3.06 神戸牛炉釜炭焼ステーキ IDEA 銀座 IDEA https://tabelog.com/tw/tokyo/A1301/A130101/13161192/\n",
      "4.36 4.36 - 神楽坂 石かわ Ishikawa https://tabelog.com/tw/tokyo/A1309/A130905/13004079/\n",
      "4.36 4.31 3.87 すし 喜邑 Kimura https://tabelog.com/tw/tokyo/A1317/A131708/13026584/\n",
      "4.35 4.32 4.02 鮨 なんば Sushinamba https://tabelog.com/tw/tokyo/A1301/A130102/13219857/\n",
      "4.35 4.35 - 青空 Harutaka https://tabelog.com/tw/tokyo/A1301/A130103/13032283/\n",
      "4.34 4.21 4.47 アピシウス APICIUS https://tabelog.com/tw/tokyo/A1301/A130102/13000145/\n",
      "正在處理頁面: https://tabelog.com/tw/tokyo/rstLst/4/?SrtT=rt\n"
     ]
    },
    {
     "ename": "KeyboardInterrupt",
     "evalue": "",
     "output_type": "error",
     "traceback": [
      "\u001b[1;31m---------------------------------------------------------------------------\u001b[0m",
      "\u001b[1;31mKeyboardInterrupt\u001b[0m                         Traceback (most recent call last)",
      "\u001b[1;32m<ipython-input-3-1c880e19fb0e>\u001b[0m in \u001b[0;36m<module>\u001b[1;34m\u001b[0m\n\u001b[0;32m     11\u001b[0m     \u001b[0mprint\u001b[0m\u001b[1;33m(\u001b[0m\u001b[1;34m\"正在處理頁面:\"\u001b[0m\u001b[1;33m,\u001b[0m \u001b[0murl\u001b[0m\u001b[1;33m)\u001b[0m\u001b[1;33m\u001b[0m\u001b[0m\n\u001b[0;32m     12\u001b[0m     \u001b[1;32mtry\u001b[0m\u001b[1;33m:\u001b[0m\u001b[1;33m\u001b[0m\u001b[0m\n\u001b[1;32m---> 13\u001b[1;33m         \u001b[0mresponse\u001b[0m \u001b[1;33m=\u001b[0m \u001b[0murlopen\u001b[0m\u001b[1;33m(\u001b[0m\u001b[0murl\u001b[0m\u001b[1;33m)\u001b[0m\u001b[1;33m\u001b[0m\u001b[0m\n\u001b[0m\u001b[0;32m     14\u001b[0m     \u001b[1;32mexcept\u001b[0m \u001b[0mHTTPError\u001b[0m\u001b[1;33m:\u001b[0m\u001b[1;33m\u001b[0m\u001b[0m\n\u001b[0;32m     15\u001b[0m         \u001b[0mprint\u001b[0m\u001b[1;33m(\u001b[0m\u001b[1;34m\"大概是結束了\"\u001b[0m\u001b[1;33m)\u001b[0m\u001b[1;33m\u001b[0m\u001b[0m\n",
      "\u001b[1;32m~\\AppData\\Local\\Programs\\Python\\Python36\\lib\\urllib\\request.py\u001b[0m in \u001b[0;36murlopen\u001b[1;34m(url, data, timeout, cafile, capath, cadefault, context)\u001b[0m\n\u001b[0;32m    221\u001b[0m     \u001b[1;32melse\u001b[0m\u001b[1;33m:\u001b[0m\u001b[1;33m\u001b[0m\u001b[0m\n\u001b[0;32m    222\u001b[0m         \u001b[0mopener\u001b[0m \u001b[1;33m=\u001b[0m \u001b[0m_opener\u001b[0m\u001b[1;33m\u001b[0m\u001b[0m\n\u001b[1;32m--> 223\u001b[1;33m     \u001b[1;32mreturn\u001b[0m \u001b[0mopener\u001b[0m\u001b[1;33m.\u001b[0m\u001b[0mopen\u001b[0m\u001b[1;33m(\u001b[0m\u001b[0murl\u001b[0m\u001b[1;33m,\u001b[0m \u001b[0mdata\u001b[0m\u001b[1;33m,\u001b[0m \u001b[0mtimeout\u001b[0m\u001b[1;33m)\u001b[0m\u001b[1;33m\u001b[0m\u001b[0m\n\u001b[0m\u001b[0;32m    224\u001b[0m \u001b[1;33m\u001b[0m\u001b[0m\n\u001b[0;32m    225\u001b[0m \u001b[1;32mdef\u001b[0m \u001b[0minstall_opener\u001b[0m\u001b[1;33m(\u001b[0m\u001b[0mopener\u001b[0m\u001b[1;33m)\u001b[0m\u001b[1;33m:\u001b[0m\u001b[1;33m\u001b[0m\u001b[0m\n",
      "\u001b[1;32m~\\AppData\\Local\\Programs\\Python\\Python36\\lib\\urllib\\request.py\u001b[0m in \u001b[0;36mopen\u001b[1;34m(self, fullurl, data, timeout)\u001b[0m\n\u001b[0;32m    524\u001b[0m             \u001b[0mreq\u001b[0m \u001b[1;33m=\u001b[0m \u001b[0mmeth\u001b[0m\u001b[1;33m(\u001b[0m\u001b[0mreq\u001b[0m\u001b[1;33m)\u001b[0m\u001b[1;33m\u001b[0m\u001b[0m\n\u001b[0;32m    525\u001b[0m \u001b[1;33m\u001b[0m\u001b[0m\n\u001b[1;32m--> 526\u001b[1;33m         \u001b[0mresponse\u001b[0m \u001b[1;33m=\u001b[0m \u001b[0mself\u001b[0m\u001b[1;33m.\u001b[0m\u001b[0m_open\u001b[0m\u001b[1;33m(\u001b[0m\u001b[0mreq\u001b[0m\u001b[1;33m,\u001b[0m \u001b[0mdata\u001b[0m\u001b[1;33m)\u001b[0m\u001b[1;33m\u001b[0m\u001b[0m\n\u001b[0m\u001b[0;32m    527\u001b[0m \u001b[1;33m\u001b[0m\u001b[0m\n\u001b[0;32m    528\u001b[0m         \u001b[1;31m# post-process response\u001b[0m\u001b[1;33m\u001b[0m\u001b[1;33m\u001b[0m\u001b[0m\n",
      "\u001b[1;32m~\\AppData\\Local\\Programs\\Python\\Python36\\lib\\urllib\\request.py\u001b[0m in \u001b[0;36m_open\u001b[1;34m(self, req, data)\u001b[0m\n\u001b[0;32m    542\u001b[0m         \u001b[0mprotocol\u001b[0m \u001b[1;33m=\u001b[0m \u001b[0mreq\u001b[0m\u001b[1;33m.\u001b[0m\u001b[0mtype\u001b[0m\u001b[1;33m\u001b[0m\u001b[0m\n\u001b[0;32m    543\u001b[0m         result = self._call_chain(self.handle_open, protocol, protocol +\n\u001b[1;32m--> 544\u001b[1;33m                                   '_open', req)\n\u001b[0m\u001b[0;32m    545\u001b[0m         \u001b[1;32mif\u001b[0m \u001b[0mresult\u001b[0m\u001b[1;33m:\u001b[0m\u001b[1;33m\u001b[0m\u001b[0m\n\u001b[0;32m    546\u001b[0m             \u001b[1;32mreturn\u001b[0m \u001b[0mresult\u001b[0m\u001b[1;33m\u001b[0m\u001b[0m\n",
      "\u001b[1;32m~\\AppData\\Local\\Programs\\Python\\Python36\\lib\\urllib\\request.py\u001b[0m in \u001b[0;36m_call_chain\u001b[1;34m(self, chain, kind, meth_name, *args)\u001b[0m\n\u001b[0;32m    502\u001b[0m         \u001b[1;32mfor\u001b[0m \u001b[0mhandler\u001b[0m \u001b[1;32min\u001b[0m \u001b[0mhandlers\u001b[0m\u001b[1;33m:\u001b[0m\u001b[1;33m\u001b[0m\u001b[0m\n\u001b[0;32m    503\u001b[0m             \u001b[0mfunc\u001b[0m \u001b[1;33m=\u001b[0m \u001b[0mgetattr\u001b[0m\u001b[1;33m(\u001b[0m\u001b[0mhandler\u001b[0m\u001b[1;33m,\u001b[0m \u001b[0mmeth_name\u001b[0m\u001b[1;33m)\u001b[0m\u001b[1;33m\u001b[0m\u001b[0m\n\u001b[1;32m--> 504\u001b[1;33m             \u001b[0mresult\u001b[0m \u001b[1;33m=\u001b[0m \u001b[0mfunc\u001b[0m\u001b[1;33m(\u001b[0m\u001b[1;33m*\u001b[0m\u001b[0margs\u001b[0m\u001b[1;33m)\u001b[0m\u001b[1;33m\u001b[0m\u001b[0m\n\u001b[0m\u001b[0;32m    505\u001b[0m             \u001b[1;32mif\u001b[0m \u001b[0mresult\u001b[0m \u001b[1;32mis\u001b[0m \u001b[1;32mnot\u001b[0m \u001b[1;32mNone\u001b[0m\u001b[1;33m:\u001b[0m\u001b[1;33m\u001b[0m\u001b[0m\n\u001b[0;32m    506\u001b[0m                 \u001b[1;32mreturn\u001b[0m \u001b[0mresult\u001b[0m\u001b[1;33m\u001b[0m\u001b[0m\n",
      "\u001b[1;32m~\\AppData\\Local\\Programs\\Python\\Python36\\lib\\urllib\\request.py\u001b[0m in \u001b[0;36mhttps_open\u001b[1;34m(self, req)\u001b[0m\n\u001b[0;32m   1359\u001b[0m         \u001b[1;32mdef\u001b[0m \u001b[0mhttps_open\u001b[0m\u001b[1;33m(\u001b[0m\u001b[0mself\u001b[0m\u001b[1;33m,\u001b[0m \u001b[0mreq\u001b[0m\u001b[1;33m)\u001b[0m\u001b[1;33m:\u001b[0m\u001b[1;33m\u001b[0m\u001b[0m\n\u001b[0;32m   1360\u001b[0m             return self.do_open(http.client.HTTPSConnection, req,\n\u001b[1;32m-> 1361\u001b[1;33m                 context=self._context, check_hostname=self._check_hostname)\n\u001b[0m\u001b[0;32m   1362\u001b[0m \u001b[1;33m\u001b[0m\u001b[0m\n\u001b[0;32m   1363\u001b[0m         \u001b[0mhttps_request\u001b[0m \u001b[1;33m=\u001b[0m \u001b[0mAbstractHTTPHandler\u001b[0m\u001b[1;33m.\u001b[0m\u001b[0mdo_request_\u001b[0m\u001b[1;33m\u001b[0m\u001b[0m\n",
      "\u001b[1;32m~\\AppData\\Local\\Programs\\Python\\Python36\\lib\\urllib\\request.py\u001b[0m in \u001b[0;36mdo_open\u001b[1;34m(self, http_class, req, **http_conn_args)\u001b[0m\n\u001b[0;32m   1319\u001b[0m             \u001b[1;32mexcept\u001b[0m \u001b[0mOSError\u001b[0m \u001b[1;32mas\u001b[0m \u001b[0merr\u001b[0m\u001b[1;33m:\u001b[0m \u001b[1;31m# timeout error\u001b[0m\u001b[1;33m\u001b[0m\u001b[0m\n\u001b[0;32m   1320\u001b[0m                 \u001b[1;32mraise\u001b[0m \u001b[0mURLError\u001b[0m\u001b[1;33m(\u001b[0m\u001b[0merr\u001b[0m\u001b[1;33m)\u001b[0m\u001b[1;33m\u001b[0m\u001b[0m\n\u001b[1;32m-> 1321\u001b[1;33m             \u001b[0mr\u001b[0m \u001b[1;33m=\u001b[0m \u001b[0mh\u001b[0m\u001b[1;33m.\u001b[0m\u001b[0mgetresponse\u001b[0m\u001b[1;33m(\u001b[0m\u001b[1;33m)\u001b[0m\u001b[1;33m\u001b[0m\u001b[0m\n\u001b[0m\u001b[0;32m   1322\u001b[0m         \u001b[1;32mexcept\u001b[0m\u001b[1;33m:\u001b[0m\u001b[1;33m\u001b[0m\u001b[0m\n\u001b[0;32m   1323\u001b[0m             \u001b[0mh\u001b[0m\u001b[1;33m.\u001b[0m\u001b[0mclose\u001b[0m\u001b[1;33m(\u001b[0m\u001b[1;33m)\u001b[0m\u001b[1;33m\u001b[0m\u001b[0m\n",
      "\u001b[1;32m~\\AppData\\Local\\Programs\\Python\\Python36\\lib\\http\\client.py\u001b[0m in \u001b[0;36mgetresponse\u001b[1;34m(self)\u001b[0m\n\u001b[0;32m   1329\u001b[0m         \u001b[1;32mtry\u001b[0m\u001b[1;33m:\u001b[0m\u001b[1;33m\u001b[0m\u001b[0m\n\u001b[0;32m   1330\u001b[0m             \u001b[1;32mtry\u001b[0m\u001b[1;33m:\u001b[0m\u001b[1;33m\u001b[0m\u001b[0m\n\u001b[1;32m-> 1331\u001b[1;33m                 \u001b[0mresponse\u001b[0m\u001b[1;33m.\u001b[0m\u001b[0mbegin\u001b[0m\u001b[1;33m(\u001b[0m\u001b[1;33m)\u001b[0m\u001b[1;33m\u001b[0m\u001b[0m\n\u001b[0m\u001b[0;32m   1332\u001b[0m             \u001b[1;32mexcept\u001b[0m \u001b[0mConnectionError\u001b[0m\u001b[1;33m:\u001b[0m\u001b[1;33m\u001b[0m\u001b[0m\n\u001b[0;32m   1333\u001b[0m                 \u001b[0mself\u001b[0m\u001b[1;33m.\u001b[0m\u001b[0mclose\u001b[0m\u001b[1;33m(\u001b[0m\u001b[1;33m)\u001b[0m\u001b[1;33m\u001b[0m\u001b[0m\n",
      "\u001b[1;32m~\\AppData\\Local\\Programs\\Python\\Python36\\lib\\http\\client.py\u001b[0m in \u001b[0;36mbegin\u001b[1;34m(self)\u001b[0m\n\u001b[0;32m    295\u001b[0m         \u001b[1;31m# read until we get a non-100 response\u001b[0m\u001b[1;33m\u001b[0m\u001b[1;33m\u001b[0m\u001b[0m\n\u001b[0;32m    296\u001b[0m         \u001b[1;32mwhile\u001b[0m \u001b[1;32mTrue\u001b[0m\u001b[1;33m:\u001b[0m\u001b[1;33m\u001b[0m\u001b[0m\n\u001b[1;32m--> 297\u001b[1;33m             \u001b[0mversion\u001b[0m\u001b[1;33m,\u001b[0m \u001b[0mstatus\u001b[0m\u001b[1;33m,\u001b[0m \u001b[0mreason\u001b[0m \u001b[1;33m=\u001b[0m \u001b[0mself\u001b[0m\u001b[1;33m.\u001b[0m\u001b[0m_read_status\u001b[0m\u001b[1;33m(\u001b[0m\u001b[1;33m)\u001b[0m\u001b[1;33m\u001b[0m\u001b[0m\n\u001b[0m\u001b[0;32m    298\u001b[0m             \u001b[1;32mif\u001b[0m \u001b[0mstatus\u001b[0m \u001b[1;33m!=\u001b[0m \u001b[0mCONTINUE\u001b[0m\u001b[1;33m:\u001b[0m\u001b[1;33m\u001b[0m\u001b[0m\n\u001b[0;32m    299\u001b[0m                 \u001b[1;32mbreak\u001b[0m\u001b[1;33m\u001b[0m\u001b[0m\n",
      "\u001b[1;32m~\\AppData\\Local\\Programs\\Python\\Python36\\lib\\http\\client.py\u001b[0m in \u001b[0;36m_read_status\u001b[1;34m(self)\u001b[0m\n\u001b[0;32m    256\u001b[0m \u001b[1;33m\u001b[0m\u001b[0m\n\u001b[0;32m    257\u001b[0m     \u001b[1;32mdef\u001b[0m \u001b[0m_read_status\u001b[0m\u001b[1;33m(\u001b[0m\u001b[0mself\u001b[0m\u001b[1;33m)\u001b[0m\u001b[1;33m:\u001b[0m\u001b[1;33m\u001b[0m\u001b[0m\n\u001b[1;32m--> 258\u001b[1;33m         \u001b[0mline\u001b[0m \u001b[1;33m=\u001b[0m \u001b[0mstr\u001b[0m\u001b[1;33m(\u001b[0m\u001b[0mself\u001b[0m\u001b[1;33m.\u001b[0m\u001b[0mfp\u001b[0m\u001b[1;33m.\u001b[0m\u001b[0mreadline\u001b[0m\u001b[1;33m(\u001b[0m\u001b[0m_MAXLINE\u001b[0m \u001b[1;33m+\u001b[0m \u001b[1;36m1\u001b[0m\u001b[1;33m)\u001b[0m\u001b[1;33m,\u001b[0m \u001b[1;34m\"iso-8859-1\"\u001b[0m\u001b[1;33m)\u001b[0m\u001b[1;33m\u001b[0m\u001b[0m\n\u001b[0m\u001b[0;32m    259\u001b[0m         \u001b[1;32mif\u001b[0m \u001b[0mlen\u001b[0m\u001b[1;33m(\u001b[0m\u001b[0mline\u001b[0m\u001b[1;33m)\u001b[0m \u001b[1;33m>\u001b[0m \u001b[0m_MAXLINE\u001b[0m\u001b[1;33m:\u001b[0m\u001b[1;33m\u001b[0m\u001b[0m\n\u001b[0;32m    260\u001b[0m             \u001b[1;32mraise\u001b[0m \u001b[0mLineTooLong\u001b[0m\u001b[1;33m(\u001b[0m\u001b[1;34m\"status line\"\u001b[0m\u001b[1;33m)\u001b[0m\u001b[1;33m\u001b[0m\u001b[0m\n",
      "\u001b[1;32m~\\AppData\\Local\\Programs\\Python\\Python36\\lib\\socket.py\u001b[0m in \u001b[0;36mreadinto\u001b[1;34m(self, b)\u001b[0m\n\u001b[0;32m    584\u001b[0m         \u001b[1;32mwhile\u001b[0m \u001b[1;32mTrue\u001b[0m\u001b[1;33m:\u001b[0m\u001b[1;33m\u001b[0m\u001b[0m\n\u001b[0;32m    585\u001b[0m             \u001b[1;32mtry\u001b[0m\u001b[1;33m:\u001b[0m\u001b[1;33m\u001b[0m\u001b[0m\n\u001b[1;32m--> 586\u001b[1;33m                 \u001b[1;32mreturn\u001b[0m \u001b[0mself\u001b[0m\u001b[1;33m.\u001b[0m\u001b[0m_sock\u001b[0m\u001b[1;33m.\u001b[0m\u001b[0mrecv_into\u001b[0m\u001b[1;33m(\u001b[0m\u001b[0mb\u001b[0m\u001b[1;33m)\u001b[0m\u001b[1;33m\u001b[0m\u001b[0m\n\u001b[0m\u001b[0;32m    587\u001b[0m             \u001b[1;32mexcept\u001b[0m \u001b[0mtimeout\u001b[0m\u001b[1;33m:\u001b[0m\u001b[1;33m\u001b[0m\u001b[0m\n\u001b[0;32m    588\u001b[0m                 \u001b[0mself\u001b[0m\u001b[1;33m.\u001b[0m\u001b[0m_timeout_occurred\u001b[0m \u001b[1;33m=\u001b[0m \u001b[1;32mTrue\u001b[0m\u001b[1;33m\u001b[0m\u001b[0m\n",
      "\u001b[1;32m~\\AppData\\Local\\Programs\\Python\\Python36\\lib\\ssl.py\u001b[0m in \u001b[0;36mrecv_into\u001b[1;34m(self, buffer, nbytes, flags)\u001b[0m\n\u001b[0;32m   1000\u001b[0m                   \u001b[1;34m\"non-zero flags not allowed in calls to recv_into() on %s\"\u001b[0m \u001b[1;33m%\u001b[0m\u001b[1;33m\u001b[0m\u001b[0m\n\u001b[0;32m   1001\u001b[0m                   self.__class__)\n\u001b[1;32m-> 1002\u001b[1;33m             \u001b[1;32mreturn\u001b[0m \u001b[0mself\u001b[0m\u001b[1;33m.\u001b[0m\u001b[0mread\u001b[0m\u001b[1;33m(\u001b[0m\u001b[0mnbytes\u001b[0m\u001b[1;33m,\u001b[0m \u001b[0mbuffer\u001b[0m\u001b[1;33m)\u001b[0m\u001b[1;33m\u001b[0m\u001b[0m\n\u001b[0m\u001b[0;32m   1003\u001b[0m         \u001b[1;32melse\u001b[0m\u001b[1;33m:\u001b[0m\u001b[1;33m\u001b[0m\u001b[0m\n\u001b[0;32m   1004\u001b[0m             \u001b[1;32mreturn\u001b[0m \u001b[0msocket\u001b[0m\u001b[1;33m.\u001b[0m\u001b[0mrecv_into\u001b[0m\u001b[1;33m(\u001b[0m\u001b[0mself\u001b[0m\u001b[1;33m,\u001b[0m \u001b[0mbuffer\u001b[0m\u001b[1;33m,\u001b[0m \u001b[0mnbytes\u001b[0m\u001b[1;33m,\u001b[0m \u001b[0mflags\u001b[0m\u001b[1;33m)\u001b[0m\u001b[1;33m\u001b[0m\u001b[0m\n",
      "\u001b[1;32m~\\AppData\\Local\\Programs\\Python\\Python36\\lib\\ssl.py\u001b[0m in \u001b[0;36mread\u001b[1;34m(self, len, buffer)\u001b[0m\n\u001b[0;32m    863\u001b[0m             \u001b[1;32mraise\u001b[0m \u001b[0mValueError\u001b[0m\u001b[1;33m(\u001b[0m\u001b[1;34m\"Read on closed or unwrapped SSL socket.\"\u001b[0m\u001b[1;33m)\u001b[0m\u001b[1;33m\u001b[0m\u001b[0m\n\u001b[0;32m    864\u001b[0m         \u001b[1;32mtry\u001b[0m\u001b[1;33m:\u001b[0m\u001b[1;33m\u001b[0m\u001b[0m\n\u001b[1;32m--> 865\u001b[1;33m             \u001b[1;32mreturn\u001b[0m \u001b[0mself\u001b[0m\u001b[1;33m.\u001b[0m\u001b[0m_sslobj\u001b[0m\u001b[1;33m.\u001b[0m\u001b[0mread\u001b[0m\u001b[1;33m(\u001b[0m\u001b[0mlen\u001b[0m\u001b[1;33m,\u001b[0m \u001b[0mbuffer\u001b[0m\u001b[1;33m)\u001b[0m\u001b[1;33m\u001b[0m\u001b[0m\n\u001b[0m\u001b[0;32m    866\u001b[0m         \u001b[1;32mexcept\u001b[0m \u001b[0mSSLError\u001b[0m \u001b[1;32mas\u001b[0m \u001b[0mx\u001b[0m\u001b[1;33m:\u001b[0m\u001b[1;33m\u001b[0m\u001b[0m\n\u001b[0;32m    867\u001b[0m             \u001b[1;32mif\u001b[0m \u001b[0mx\u001b[0m\u001b[1;33m.\u001b[0m\u001b[0margs\u001b[0m\u001b[1;33m[\u001b[0m\u001b[1;36m0\u001b[0m\u001b[1;33m]\u001b[0m \u001b[1;33m==\u001b[0m \u001b[0mSSL_ERROR_EOF\u001b[0m \u001b[1;32mand\u001b[0m \u001b[0mself\u001b[0m\u001b[1;33m.\u001b[0m\u001b[0msuppress_ragged_eofs\u001b[0m\u001b[1;33m:\u001b[0m\u001b[1;33m\u001b[0m\u001b[0m\n",
      "\u001b[1;32m~\\AppData\\Local\\Programs\\Python\\Python36\\lib\\ssl.py\u001b[0m in \u001b[0;36mread\u001b[1;34m(self, len, buffer)\u001b[0m\n\u001b[0;32m    623\u001b[0m         \"\"\"\n\u001b[0;32m    624\u001b[0m         \u001b[1;32mif\u001b[0m \u001b[0mbuffer\u001b[0m \u001b[1;32mis\u001b[0m \u001b[1;32mnot\u001b[0m \u001b[1;32mNone\u001b[0m\u001b[1;33m:\u001b[0m\u001b[1;33m\u001b[0m\u001b[0m\n\u001b[1;32m--> 625\u001b[1;33m             \u001b[0mv\u001b[0m \u001b[1;33m=\u001b[0m \u001b[0mself\u001b[0m\u001b[1;33m.\u001b[0m\u001b[0m_sslobj\u001b[0m\u001b[1;33m.\u001b[0m\u001b[0mread\u001b[0m\u001b[1;33m(\u001b[0m\u001b[0mlen\u001b[0m\u001b[1;33m,\u001b[0m \u001b[0mbuffer\u001b[0m\u001b[1;33m)\u001b[0m\u001b[1;33m\u001b[0m\u001b[0m\n\u001b[0m\u001b[0;32m    626\u001b[0m         \u001b[1;32melse\u001b[0m\u001b[1;33m:\u001b[0m\u001b[1;33m\u001b[0m\u001b[0m\n\u001b[0;32m    627\u001b[0m             \u001b[0mv\u001b[0m \u001b[1;33m=\u001b[0m \u001b[0mself\u001b[0m\u001b[1;33m.\u001b[0m\u001b[0m_sslobj\u001b[0m\u001b[1;33m.\u001b[0m\u001b[0mread\u001b[0m\u001b[1;33m(\u001b[0m\u001b[0mlen\u001b[0m\u001b[1;33m)\u001b[0m\u001b[1;33m\u001b[0m\u001b[0m\n",
      "\u001b[1;31mKeyboardInterrupt\u001b[0m: "
     ]
    }
   ],
   "source": [
    "from urllib.request import urlopen\n",
    "from urllib.error import HTTPError\n",
    "from bs4 import BeautifulSoup\n",
    "# MAC\n",
    "import ssl\n",
    "ssl._create_default_https_context = ssl._create_unverified_context\n",
    "\n",
    "page = 1\n",
    "while True:\n",
    "    url = \"https://tabelog.com/tw/tokyo/rstLst/\" + str(page) + \"/?SrtT=rt\"\n",
    "    print(\"正在處理頁面:\", url)\n",
    "    try:\n",
    "        response = urlopen(url)\n",
    "    except HTTPError:\n",
    "        print(\"大概是結束了\")\n",
    "        break\n",
    "    html = BeautifulSoup(response)\n",
    "\n",
    "    # html.find_all(\"li\", class_ = \"list-rst\")\n",
    "    restaurants = html.find_all(\"li\", {\"class\":\"list-rst\"})\n",
    "    for r in restaurants:\n",
    "        ja = r.find(\"small\", class_=\"list-rst__name-ja\").text\n",
    "        en = r.find(\"a\", class_=\"list-rst__name-main\").text\n",
    "        blog = r.find(\"a\", class_=\"list-rst__name-main\")[\"href\"]\n",
    "        rating = r.find_all(\"b\", class_=\"c-rating__val\")\n",
    "        print(rating[0].text, rating[1].text, rating[2].text, ja, en, blog)\n",
    "        \n",
    "    page = page + 1"
   ]
  },
  {
   "cell_type": "code",
   "execution_count": null,
   "metadata": {},
   "outputs": [],
   "source": []
  }
 ],
 "metadata": {
  "kernelspec": {
   "display_name": "Python 3",
   "language": "python",
   "name": "python3"
  },
  "language_info": {
   "codemirror_mode": {
    "name": "ipython",
    "version": 3
   },
   "file_extension": ".py",
   "mimetype": "text/x-python",
   "name": "python",
   "nbconvert_exporter": "python",
   "pygments_lexer": "ipython3",
   "version": "3.6.0"
  }
 },
 "nbformat": 4,
 "nbformat_minor": 2
}
